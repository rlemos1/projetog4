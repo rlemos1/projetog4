{
 "cells": [
  {
   "cell_type": "markdown",
   "id": "dfd16433",
   "metadata": {},
   "source": [
    "# Sobre o conjunto de dados\n",
    "\n",
    "## Informações básicas\n",
    "\n",
    "O conjunto de dados CICIDS2017 contém os ataques comuns benignos e mais atualizados, que se assemelham aos dados do mundo real (PCAPs). Também inclui os resultados da análise de tráfego de rede usando o CICFlowMeter com fluxos rotulados com base no carimbo de data/hora, IPs de origem e destino, portas de origem e destino, protocolos e ataque (arquivos CSV). Também está disponível a definição de recursos extraídos.\n",
    "\n",
    "Gerar tráfego em segundo plano realista foi nossa principal prioridade na construção desse conjunto de dados. Usamos nosso sistema B-Profile proposto (Sharafaldin, et al. 2016) para perfilar o comportamento abstrato das interações humanas e gerar tráfego de fundo naturalista benigno. Para este conjunto de dados, construímos o comportamento abstrato de 25 usuários com base nos protocolos HTTP, HTTPS, FTP, SSH e email.\n",
    "\n",
    "O período de captura de dados teve início às 9h de segunda-feira, 3 de julho de 2017, e terminou às 17h de sexta-feira, 7 de julho de 2017, totalizando 5 dias. Segunda-feira é o dia normal e inclui apenas tráfego benigno. Os ataques implementados incluem Brute Force FTP, Brute Force SSH, DoS, Heartbleed, Web Attack, Infiltration, Botnet e DDoS. Eles foram executados de manhã e à tarde na terça, quarta, quinta e sexta-feira."
   ]
  },
  {
   "cell_type": "code",
   "execution_count": 42,
   "id": "96369fac",
   "metadata": {},
   "outputs": [],
   "source": [
    "import pandas as pd\n",
    "import numpy as np\n",
    "import matplotlib.pyplot as plt\n",
    "import scipy.stats as stats\n",
    "import seaborn as sns\n",
    "import math\n",
    "import statsmodels.api as sm\n",
    "import pylab as py\n",
    "import random\n",
    "from plotnine import *\n",
    "from sklearn.model_selection import train_test_split\n",
    "from sklearn.preprocessing import MinMaxScaler\n",
    "from sklearn.neighbors import KNeighborsClassifier\n",
    "from sklearn.ensemble import RandomForestClassifier\n",
    "from sklearn.tree  import DecisionTreeClassifier\n",
    "from sklearn import tree\n",
    "import sklearn.metrics as metrics\n",
    "from sklearn.metrics import accuracy_score, classification_report"
   ]
  },
  {
   "cell_type": "code",
   "execution_count": 2,
   "id": "da7b3a06",
   "metadata": {},
   "outputs": [],
   "source": [
    "datasets = ['Monday-WorkingHours.pcap_ISCX.csv','Tuesday-WorkingHours.pcap_ISCX.csv',\n",
    "                                 'Thursday-WorkingHours-Morning-WebAttacks.pcap_ISCX.csv',\n",
    "                                 'Wednesday-workingHours.pcap_ISCX.csv',\n",
    "                                 'Thursday-WorkingHours-Afternoon-Infilteration.pcap_ISCX.csv',\n",
    "                                 'Friday-WorkingHours-Afternoon-DDos.pcap_ISCX.csv', \n",
    "                                 'Friday-WorkingHours-Afternoon-PortScan.pcap_ISCX.csv', \n",
    "                                 'Friday-WorkingHours-Morning.pcap_ISCX.csv'\n",
    "                                  ]"
   ]
  },
  {
   "cell_type": "code",
   "execution_count": 3,
   "id": "3b1ea07d",
   "metadata": {},
   "outputs": [],
   "source": [
    "dfs = list()\n",
    "for i in range(len(datasets)):\n",
    "    dfs.append(pd.read_csv(datasets[i]))"
   ]
  },
  {
   "cell_type": "code",
   "execution_count": 4,
   "id": "5681f380",
   "metadata": {
    "scrolled": true
   },
   "outputs": [
    {
     "name": "stdout",
     "output_type": "stream",
     "text": [
      "<class 'pandas.core.frame.DataFrame'>\n",
      "RangeIndex: 529918 entries, 0 to 529917\n",
      "Data columns (total 79 columns):\n",
      " #   Column                        Non-Null Count   Dtype  \n",
      "---  ------                        --------------   -----  \n",
      " 0    Destination Port             529918 non-null  int64  \n",
      " 1    Flow Duration                529918 non-null  int64  \n",
      " 2    Total Fwd Packets            529918 non-null  int64  \n",
      " 3    Total Backward Packets       529918 non-null  int64  \n",
      " 4   Total Length of Fwd Packets   529918 non-null  int64  \n",
      " 5    Total Length of Bwd Packets  529918 non-null  int64  \n",
      " 6    Fwd Packet Length Max        529918 non-null  int64  \n",
      " 7    Fwd Packet Length Min        529918 non-null  int64  \n",
      " 8    Fwd Packet Length Mean       529918 non-null  float64\n",
      " 9    Fwd Packet Length Std        529918 non-null  float64\n",
      " 10  Bwd Packet Length Max         529918 non-null  int64  \n",
      " 11   Bwd Packet Length Min        529918 non-null  int64  \n",
      " 12   Bwd Packet Length Mean       529918 non-null  float64\n",
      " 13   Bwd Packet Length Std        529918 non-null  float64\n",
      " 14  Flow Bytes/s                  529854 non-null  float64\n",
      " 15   Flow Packets/s               529918 non-null  float64\n",
      " 16   Flow IAT Mean                529918 non-null  float64\n",
      " 17   Flow IAT Std                 529918 non-null  float64\n",
      " 18   Flow IAT Max                 529918 non-null  int64  \n",
      " 19   Flow IAT Min                 529918 non-null  int64  \n",
      " 20  Fwd IAT Total                 529918 non-null  int64  \n",
      " 21   Fwd IAT Mean                 529918 non-null  float64\n",
      " 22   Fwd IAT Std                  529918 non-null  float64\n",
      " 23   Fwd IAT Max                  529918 non-null  int64  \n",
      " 24   Fwd IAT Min                  529918 non-null  int64  \n",
      " 25  Bwd IAT Total                 529918 non-null  int64  \n",
      " 26   Bwd IAT Mean                 529918 non-null  float64\n",
      " 27   Bwd IAT Std                  529918 non-null  float64\n",
      " 28   Bwd IAT Max                  529918 non-null  int64  \n",
      " 29   Bwd IAT Min                  529918 non-null  int64  \n",
      " 30  Fwd PSH Flags                 529918 non-null  int64  \n",
      " 31   Bwd PSH Flags                529918 non-null  int64  \n",
      " 32   Fwd URG Flags                529918 non-null  int64  \n",
      " 33   Bwd URG Flags                529918 non-null  int64  \n",
      " 34   Fwd Header Length            529918 non-null  int64  \n",
      " 35   Bwd Header Length            529918 non-null  int64  \n",
      " 36  Fwd Packets/s                 529918 non-null  float64\n",
      " 37   Bwd Packets/s                529918 non-null  float64\n",
      " 38   Min Packet Length            529918 non-null  int64  \n",
      " 39   Max Packet Length            529918 non-null  int64  \n",
      " 40   Packet Length Mean           529918 non-null  float64\n",
      " 41   Packet Length Std            529918 non-null  float64\n",
      " 42   Packet Length Variance       529918 non-null  float64\n",
      " 43  FIN Flag Count                529918 non-null  int64  \n",
      " 44   SYN Flag Count               529918 non-null  int64  \n",
      " 45   RST Flag Count               529918 non-null  int64  \n",
      " 46   PSH Flag Count               529918 non-null  int64  \n",
      " 47   ACK Flag Count               529918 non-null  int64  \n",
      " 48   URG Flag Count               529918 non-null  int64  \n",
      " 49   CWE Flag Count               529918 non-null  int64  \n",
      " 50   ECE Flag Count               529918 non-null  int64  \n",
      " 51   Down/Up Ratio                529918 non-null  int64  \n",
      " 52   Average Packet Size          529918 non-null  float64\n",
      " 53   Avg Fwd Segment Size         529918 non-null  float64\n",
      " 54   Avg Bwd Segment Size         529918 non-null  float64\n",
      " 55   Fwd Header Length.1          529918 non-null  int64  \n",
      " 56  Fwd Avg Bytes/Bulk            529918 non-null  int64  \n",
      " 57   Fwd Avg Packets/Bulk         529918 non-null  int64  \n",
      " 58   Fwd Avg Bulk Rate            529918 non-null  int64  \n",
      " 59   Bwd Avg Bytes/Bulk           529918 non-null  int64  \n",
      " 60   Bwd Avg Packets/Bulk         529918 non-null  int64  \n",
      " 61  Bwd Avg Bulk Rate             529918 non-null  int64  \n",
      " 62  Subflow Fwd Packets           529918 non-null  int64  \n",
      " 63   Subflow Fwd Bytes            529918 non-null  int64  \n",
      " 64   Subflow Bwd Packets          529918 non-null  int64  \n",
      " 65   Subflow Bwd Bytes            529918 non-null  int64  \n",
      " 66  Init_Win_bytes_forward        529918 non-null  int64  \n",
      " 67   Init_Win_bytes_backward      529918 non-null  int64  \n",
      " 68   act_data_pkt_fwd             529918 non-null  int64  \n",
      " 69   min_seg_size_forward         529918 non-null  int64  \n",
      " 70  Active Mean                   529918 non-null  float64\n",
      " 71   Active Std                   529918 non-null  float64\n",
      " 72   Active Max                   529918 non-null  int64  \n",
      " 73   Active Min                   529918 non-null  int64  \n",
      " 74  Idle Mean                     529918 non-null  float64\n",
      " 75   Idle Std                     529918 non-null  float64\n",
      " 76   Idle Max                     529918 non-null  int64  \n",
      " 77   Idle Min                     529918 non-null  int64  \n",
      " 78   Label                        529918 non-null  object \n",
      "dtypes: float64(24), int64(54), object(1)\n",
      "memory usage: 319.4+ MB\n"
     ]
    }
   ],
   "source": [
    "dfs[0].info()"
   ]
  },
  {
   "cell_type": "code",
   "execution_count": 5,
   "id": "361773c7",
   "metadata": {},
   "outputs": [
    {
     "data": {
      "image/png": "[encoded data removed]",
      "text/plain": [
       "<Figure size 432x288 with 1 Axes>"
      ]
     },
     "metadata": {
      "needs_background": "light"
     },
     "output_type": "display_data"
    },
    {
     "data": {
      "image/png": "[encoded data removed]",
      "text/plain": [
       "<Figure size 432x288 with 1 Axes>"
      ]
     },
     "metadata": {
      "needs_background": "light"
     },
     "output_type": "display_data"
    },
    {
     "data": {
      "image/png": "[encoded data removed]",
      "text/plain": [
       "<Figure size 432x288 with 1 Axes>"
      ]
     },
     "metadata": {
      "needs_background": "light"
     },
     "output_type": "display_data"
    },
    {
     "data": {
      "image/png": "[encoded data removed]",
      "text/plain": [
       "<Figure size 432x288 with 1 Axes>"
      ]
     },
     "metadata": {
      "needs_background": "light"
     },
     "output_type": "display_data"
    },
    {
     "data": {
      "image/png": "[encoded data removed]",
      "text/plain": [
       "<Figure size 432x288 with 1 Axes>"
      ]
     },
     "metadata": {
      "needs_background": "light"
     },
     "output_type": "display_data"
    },
    {
     "data": {
      "image/png": "[encoded data removed]",
      "text/plain": [
       "<Figure size 432x288 with 1 Axes>"
      ]
     },
     "metadata": {
      "needs_background": "light"
     },
     "output_type": "display_data"
    },
    {
     "data": {
      "image/png": "[encoded data removed]",
      "text/plain": [
       "<Figure size 432x288 with 1 Axes>"
      ]
     },
     "metadata": {
      "needs_background": "light"
     },
     "output_type": "display_data"
    },
    {
     "data": {
      "image/png": "[encoded data removed]",
      "text/plain": [
       "<Figure size 432x288 with 1 Axes>"
      ]
     },
     "metadata": {
      "needs_background": "light"
     },
     "output_type": "display_data"
    }
   ],
   "source": [
    "for i in range(len(dfs)):\n",
    "    plt.title(datasets[i])\n",
    "    plt.hist(dfs[i][' Label'], bins=4, rwidth=0.8) \n",
    "    plt.xticks(rotation=45)\n",
    "    plt.show()"
   ]
  },
  {
   "cell_type": "markdown",
   "id": "4bd71037",
   "metadata": {},
   "source": [
    "## Descrição dos Identificadores"
   ]
  },
  {
   "cell_type": "code",
   "execution_count": 6,
   "id": "35202e23",
   "metadata": {},
   "outputs": [],
   "source": [
    "df = pd.concat(map(pd.read_csv, ['Monday-WorkingHours.pcap_ISCX.csv','Tuesday-WorkingHours.pcap_ISCX.csv',\n",
    "                                 'Thursday-WorkingHours-Morning-WebAttacks.pcap_ISCX.csv',\n",
    "                                 'Wednesday-workingHours.pcap_ISCX.csv',\n",
    "                                 'Thursday-WorkingHours-Afternoon-Infilteration.pcap_ISCX.csv',\n",
    "                                 'Friday-WorkingHours-Afternoon-DDos.pcap_ISCX.csv', \n",
    "                                 'Friday-WorkingHours-Afternoon-PortScan.pcap_ISCX.csv', \n",
    "                                 'Friday-WorkingHours-Morning.pcap_ISCX.csv'\n",
    "                                  ]), ignore_index=True)"
   ]
  },
  {
   "cell_type": "code",
   "execution_count": 7,
   "id": "e345fad7",
   "metadata": {},
   "outputs": [
    {
     "data": {
      "text/html": [
       "<div>\n",
       "<style scoped>\n",
       "    .dataframe tbody tr th:only-of-type {\n",
       "        vertical-align: middle;\n",
       "    }\n",
       "\n",
       "    .dataframe tbody tr th {\n",
       "        vertical-align: top;\n",
       "    }\n",
       "\n",
       "    .dataframe thead th {\n",
       "        text-align: right;\n",
       "    }\n",
       "</style>\n",
       "<table border=\"1\" class=\"dataframe\">\n",
       "  <thead>\n",
       "    <tr style=\"text-align: right;\">\n",
       "      <th></th>\n",
       "      <th>Destination Port</th>\n",
       "      <th>Flow Duration</th>\n",
       "      <th>Total Fwd Packets</th>\n",
       "      <th>Total Backward Packets</th>\n",
       "      <th>Total Length of Fwd Packets</th>\n",
       "      <th>Total Length of Bwd Packets</th>\n",
       "      <th>Fwd Packet Length Max</th>\n",
       "      <th>Fwd Packet Length Min</th>\n",
       "      <th>Fwd Packet Length Mean</th>\n",
       "      <th>Fwd Packet Length Std</th>\n",
       "      <th>...</th>\n",
       "      <th>min_seg_size_forward</th>\n",
       "      <th>Active Mean</th>\n",
       "      <th>Active Std</th>\n",
       "      <th>Active Max</th>\n",
       "      <th>Active Min</th>\n",
       "      <th>Idle Mean</th>\n",
       "      <th>Idle Std</th>\n",
       "      <th>Idle Max</th>\n",
       "      <th>Idle Min</th>\n",
       "      <th>Label</th>\n",
       "    </tr>\n",
       "  </thead>\n",
       "  <tbody>\n",
       "    <tr>\n",
       "      <th>0</th>\n",
       "      <td>49188</td>\n",
       "      <td>4</td>\n",
       "      <td>2</td>\n",
       "      <td>0</td>\n",
       "      <td>12</td>\n",
       "      <td>0</td>\n",
       "      <td>6</td>\n",
       "      <td>6</td>\n",
       "      <td>6.0</td>\n",
       "      <td>0.0</td>\n",
       "      <td>...</td>\n",
       "      <td>20</td>\n",
       "      <td>0.0</td>\n",
       "      <td>0.0</td>\n",
       "      <td>0</td>\n",
       "      <td>0</td>\n",
       "      <td>0.0</td>\n",
       "      <td>0.0</td>\n",
       "      <td>0</td>\n",
       "      <td>0</td>\n",
       "      <td>BENIGN</td>\n",
       "    </tr>\n",
       "    <tr>\n",
       "      <th>1</th>\n",
       "      <td>49188</td>\n",
       "      <td>1</td>\n",
       "      <td>2</td>\n",
       "      <td>0</td>\n",
       "      <td>12</td>\n",
       "      <td>0</td>\n",
       "      <td>6</td>\n",
       "      <td>6</td>\n",
       "      <td>6.0</td>\n",
       "      <td>0.0</td>\n",
       "      <td>...</td>\n",
       "      <td>20</td>\n",
       "      <td>0.0</td>\n",
       "      <td>0.0</td>\n",
       "      <td>0</td>\n",
       "      <td>0</td>\n",
       "      <td>0.0</td>\n",
       "      <td>0.0</td>\n",
       "      <td>0</td>\n",
       "      <td>0</td>\n",
       "      <td>BENIGN</td>\n",
       "    </tr>\n",
       "    <tr>\n",
       "      <th>2</th>\n",
       "      <td>49188</td>\n",
       "      <td>1</td>\n",
       "      <td>2</td>\n",
       "      <td>0</td>\n",
       "      <td>12</td>\n",
       "      <td>0</td>\n",
       "      <td>6</td>\n",
       "      <td>6</td>\n",
       "      <td>6.0</td>\n",
       "      <td>0.0</td>\n",
       "      <td>...</td>\n",
       "      <td>20</td>\n",
       "      <td>0.0</td>\n",
       "      <td>0.0</td>\n",
       "      <td>0</td>\n",
       "      <td>0</td>\n",
       "      <td>0.0</td>\n",
       "      <td>0.0</td>\n",
       "      <td>0</td>\n",
       "      <td>0</td>\n",
       "      <td>BENIGN</td>\n",
       "    </tr>\n",
       "    <tr>\n",
       "      <th>3</th>\n",
       "      <td>49188</td>\n",
       "      <td>1</td>\n",
       "      <td>2</td>\n",
       "      <td>0</td>\n",
       "      <td>12</td>\n",
       "      <td>0</td>\n",
       "      <td>6</td>\n",
       "      <td>6</td>\n",
       "      <td>6.0</td>\n",
       "      <td>0.0</td>\n",
       "      <td>...</td>\n",
       "      <td>20</td>\n",
       "      <td>0.0</td>\n",
       "      <td>0.0</td>\n",
       "      <td>0</td>\n",
       "      <td>0</td>\n",
       "      <td>0.0</td>\n",
       "      <td>0.0</td>\n",
       "      <td>0</td>\n",
       "      <td>0</td>\n",
       "      <td>BENIGN</td>\n",
       "    </tr>\n",
       "    <tr>\n",
       "      <th>4</th>\n",
       "      <td>49486</td>\n",
       "      <td>3</td>\n",
       "      <td>2</td>\n",
       "      <td>0</td>\n",
       "      <td>12</td>\n",
       "      <td>0</td>\n",
       "      <td>6</td>\n",
       "      <td>6</td>\n",
       "      <td>6.0</td>\n",
       "      <td>0.0</td>\n",
       "      <td>...</td>\n",
       "      <td>20</td>\n",
       "      <td>0.0</td>\n",
       "      <td>0.0</td>\n",
       "      <td>0</td>\n",
       "      <td>0</td>\n",
       "      <td>0.0</td>\n",
       "      <td>0.0</td>\n",
       "      <td>0</td>\n",
       "      <td>0</td>\n",
       "      <td>BENIGN</td>\n",
       "    </tr>\n",
       "  </tbody>\n",
       "</table>\n",
       "<p>5 rows × 79 columns</p>\n",
       "</div>"
      ],
      "text/plain": [
       "    Destination Port   Flow Duration   Total Fwd Packets  \\\n",
       "0              49188               4                   2   \n",
       "1              49188               1                   2   \n",
       "2              49188               1                   2   \n",
       "3              49188               1                   2   \n",
       "4              49486               3                   2   \n",
       "\n",
       "    Total Backward Packets  Total Length of Fwd Packets  \\\n",
       "0                        0                           12   \n",
       "1                        0                           12   \n",
       "2                        0                           12   \n",
       "3                        0                           12   \n",
       "4                        0                           12   \n",
       "\n",
       "    Total Length of Bwd Packets   Fwd Packet Length Max  \\\n",
       "0                             0                       6   \n",
       "1                             0                       6   \n",
       "2                             0                       6   \n",
       "3                             0                       6   \n",
       "4                             0                       6   \n",
       "\n",
       "    Fwd Packet Length Min   Fwd Packet Length Mean   Fwd Packet Length Std  \\\n",
       "0                       6                      6.0                     0.0   \n",
       "1                       6                      6.0                     0.0   \n",
       "2                       6                      6.0                     0.0   \n",
       "3                       6                      6.0                     0.0   \n",
       "4                       6                      6.0                     0.0   \n",
       "\n",
       "   ...   min_seg_size_forward  Active Mean   Active Std   Active Max  \\\n",
       "0  ...                     20          0.0          0.0            0   \n",
       "1  ...                     20          0.0          0.0            0   \n",
       "2  ...                     20          0.0          0.0            0   \n",
       "3  ...                     20          0.0          0.0            0   \n",
       "4  ...                     20          0.0          0.0            0   \n",
       "\n",
       "    Active Min  Idle Mean   Idle Std   Idle Max   Idle Min   Label  \n",
       "0            0        0.0        0.0          0          0  BENIGN  \n",
       "1            0        0.0        0.0          0          0  BENIGN  \n",
       "2            0        0.0        0.0          0          0  BENIGN  \n",
       "3            0        0.0        0.0          0          0  BENIGN  \n",
       "4            0        0.0        0.0          0          0  BENIGN  \n",
       "\n",
       "[5 rows x 79 columns]"
      ]
     },
     "execution_count": 7,
     "metadata": {},
     "output_type": "execute_result"
    }
   ],
   "source": [
    "df.head()"
   ]
  },
  {
   "cell_type": "code",
   "execution_count": 8,
   "id": "37738ad1",
   "metadata": {},
   "outputs": [
    {
     "data": {
      "text/plain": [
       " Destination Port              0\n",
       " Flow Duration                 0\n",
       " Total Fwd Packets             0\n",
       " Total Backward Packets        0\n",
       "Total Length of Fwd Packets    0\n",
       "                              ..\n",
       "Idle Mean                      0\n",
       " Idle Std                      0\n",
       " Idle Max                      0\n",
       " Idle Min                      0\n",
       " Label                         0\n",
       "Length: 79, dtype: int64"
      ]
     },
     "execution_count": 8,
     "metadata": {},
     "output_type": "execute_result"
    }
   ],
   "source": [
    "df.isna().sum()"
   ]
  },
  {
   "cell_type": "code",
   "execution_count": 9,
   "id": "595819b5",
   "metadata": {},
   "outputs": [
    {
     "name": "stdout",
     "output_type": "stream",
     "text": [
      "<class 'pandas.core.frame.DataFrame'>\n",
      "RangeIndex: 2830743 entries, 0 to 2830742\n",
      "Data columns (total 79 columns):\n",
      " #   Column                        Dtype  \n",
      "---  ------                        -----  \n",
      " 0    Destination Port             int64  \n",
      " 1    Flow Duration                int64  \n",
      " 2    Total Fwd Packets            int64  \n",
      " 3    Total Backward Packets       int64  \n",
      " 4   Total Length of Fwd Packets   int64  \n",
      " 5    Total Length of Bwd Packets  int64  \n",
      " 6    Fwd Packet Length Max        int64  \n",
      " 7    Fwd Packet Length Min        int64  \n",
      " 8    Fwd Packet Length Mean       float64\n",
      " 9    Fwd Packet Length Std        float64\n",
      " 10  Bwd Packet Length Max         int64  \n",
      " 11   Bwd Packet Length Min        int64  \n",
      " 12   Bwd Packet Length Mean       float64\n",
      " 13   Bwd Packet Length Std        float64\n",
      " 14  Flow Bytes/s                  float64\n",
      " 15   Flow Packets/s               float64\n",
      " 16   Flow IAT Mean                float64\n",
      " 17   Flow IAT Std                 float64\n",
      " 18   Flow IAT Max                 int64  \n",
      " 19   Flow IAT Min                 int64  \n",
      " 20  Fwd IAT Total                 int64  \n",
      " 21   Fwd IAT Mean                 float64\n",
      " 22   Fwd IAT Std                  float64\n",
      " 23   Fwd IAT Max                  int64  \n",
      " 24   Fwd IAT Min                  int64  \n",
      " 25  Bwd IAT Total                 int64  \n",
      " 26   Bwd IAT Mean                 float64\n",
      " 27   Bwd IAT Std                  float64\n",
      " 28   Bwd IAT Max                  int64  \n",
      " 29   Bwd IAT Min                  int64  \n",
      " 30  Fwd PSH Flags                 int64  \n",
      " 31   Bwd PSH Flags                int64  \n",
      " 32   Fwd URG Flags                int64  \n",
      " 33   Bwd URG Flags                int64  \n",
      " 34   Fwd Header Length            int64  \n",
      " 35   Bwd Header Length            int64  \n",
      " 36  Fwd Packets/s                 float64\n",
      " 37   Bwd Packets/s                float64\n",
      " 38   Min Packet Length            int64  \n",
      " 39   Max Packet Length            int64  \n",
      " 40   Packet Length Mean           float64\n",
      " 41   Packet Length Std            float64\n",
      " 42   Packet Length Variance       float64\n",
      " 43  FIN Flag Count                int64  \n",
      " 44   SYN Flag Count               int64  \n",
      " 45   RST Flag Count               int64  \n",
      " 46   PSH Flag Count               int64  \n",
      " 47   ACK Flag Count               int64  \n",
      " 48   URG Flag Count               int64  \n",
      " 49   CWE Flag Count               int64  \n",
      " 50   ECE Flag Count               int64  \n",
      " 51   Down/Up Ratio                int64  \n",
      " 52   Average Packet Size          float64\n",
      " 53   Avg Fwd Segment Size         float64\n",
      " 54   Avg Bwd Segment Size         float64\n",
      " 55   Fwd Header Length.1          int64  \n",
      " 56  Fwd Avg Bytes/Bulk            int64  \n",
      " 57   Fwd Avg Packets/Bulk         int64  \n",
      " 58   Fwd Avg Bulk Rate            int64  \n",
      " 59   Bwd Avg Bytes/Bulk           int64  \n",
      " 60   Bwd Avg Packets/Bulk         int64  \n",
      " 61  Bwd Avg Bulk Rate             int64  \n",
      " 62  Subflow Fwd Packets           int64  \n",
      " 63   Subflow Fwd Bytes            int64  \n",
      " 64   Subflow Bwd Packets          int64  \n",
      " 65   Subflow Bwd Bytes            int64  \n",
      " 66  Init_Win_bytes_forward        int64  \n",
      " 67   Init_Win_bytes_backward      int64  \n",
      " 68   act_data_pkt_fwd             int64  \n",
      " 69   min_seg_size_forward         int64  \n",
      " 70  Active Mean                   float64\n",
      " 71   Active Std                   float64\n",
      " 72   Active Max                   int64  \n",
      " 73   Active Min                   int64  \n",
      " 74  Idle Mean                     float64\n",
      " 75   Idle Std                     float64\n",
      " 76   Idle Max                     int64  \n",
      " 77   Idle Min                     int64  \n",
      " 78   Label                        object \n",
      "dtypes: float64(24), int64(54), object(1)\n",
      "memory usage: 1.7+ GB\n"
     ]
    }
   ],
   "source": [
    "df.info()"
   ]
  },
  {
   "cell_type": "code",
   "execution_count": 10,
   "id": "da75b973",
   "metadata": {},
   "outputs": [
    {
     "data": {
      "text/html": [
       "<div>\n",
       "<style scoped>\n",
       "    .dataframe tbody tr th:only-of-type {\n",
       "        vertical-align: middle;\n",
       "    }\n",
       "\n",
       "    .dataframe tbody tr th {\n",
       "        vertical-align: top;\n",
       "    }\n",
       "\n",
       "    .dataframe thead th {\n",
       "        text-align: right;\n",
       "    }\n",
       "</style>\n",
       "<table border=\"1\" class=\"dataframe\">\n",
       "  <thead>\n",
       "    <tr style=\"text-align: right;\">\n",
       "      <th></th>\n",
       "      <th>Destination Port</th>\n",
       "      <th>Flow Duration</th>\n",
       "      <th>Total Fwd Packets</th>\n",
       "      <th>Total Backward Packets</th>\n",
       "      <th>Total Length of Fwd Packets</th>\n",
       "      <th>Total Length of Bwd Packets</th>\n",
       "      <th>Fwd Packet Length Max</th>\n",
       "      <th>Fwd Packet Length Min</th>\n",
       "      <th>Fwd Packet Length Mean</th>\n",
       "      <th>Fwd Packet Length Std</th>\n",
       "      <th>...</th>\n",
       "      <th>act_data_pkt_fwd</th>\n",
       "      <th>min_seg_size_forward</th>\n",
       "      <th>Active Mean</th>\n",
       "      <th>Active Std</th>\n",
       "      <th>Active Max</th>\n",
       "      <th>Active Min</th>\n",
       "      <th>Idle Mean</th>\n",
       "      <th>Idle Std</th>\n",
       "      <th>Idle Max</th>\n",
       "      <th>Idle Min</th>\n",
       "    </tr>\n",
       "  </thead>\n",
       "  <tbody>\n",
       "    <tr>\n",
       "      <th>count</th>\n",
       "      <td>2.830743e+06</td>\n",
       "      <td>2.830743e+06</td>\n",
       "      <td>2.830743e+06</td>\n",
       "      <td>2.830743e+06</td>\n",
       "      <td>2.830743e+06</td>\n",
       "      <td>2.830743e+06</td>\n",
       "      <td>2.830743e+06</td>\n",
       "      <td>2.830743e+06</td>\n",
       "      <td>2.830743e+06</td>\n",
       "      <td>2.830743e+06</td>\n",
       "      <td>...</td>\n",
       "      <td>2.830743e+06</td>\n",
       "      <td>2.830743e+06</td>\n",
       "      <td>2.830743e+06</td>\n",
       "      <td>2.830743e+06</td>\n",
       "      <td>2.830743e+06</td>\n",
       "      <td>2.830743e+06</td>\n",
       "      <td>2.830743e+06</td>\n",
       "      <td>2.830743e+06</td>\n",
       "      <td>2.830743e+06</td>\n",
       "      <td>2.830743e+06</td>\n",
       "    </tr>\n",
       "    <tr>\n",
       "      <th>mean</th>\n",
       "      <td>8.071483e+03</td>\n",
       "      <td>1.478566e+07</td>\n",
       "      <td>9.361160e+00</td>\n",
       "      <td>1.039377e+01</td>\n",
       "      <td>5.493024e+02</td>\n",
       "      <td>1.616264e+04</td>\n",
       "      <td>2.075999e+02</td>\n",
       "      <td>1.871366e+01</td>\n",
       "      <td>5.820194e+01</td>\n",
       "      <td>6.891013e+01</td>\n",
       "      <td>...</td>\n",
       "      <td>5.418218e+00</td>\n",
       "      <td>-2.741688e+03</td>\n",
       "      <td>8.155132e+04</td>\n",
       "      <td>4.113412e+04</td>\n",
       "      <td>1.531825e+05</td>\n",
       "      <td>5.829582e+04</td>\n",
       "      <td>8.316037e+06</td>\n",
       "      <td>5.038439e+05</td>\n",
       "      <td>8.695752e+06</td>\n",
       "      <td>7.920031e+06</td>\n",
       "    </tr>\n",
       "    <tr>\n",
       "      <th>std</th>\n",
       "      <td>1.828363e+04</td>\n",
       "      <td>3.365374e+07</td>\n",
       "      <td>7.496728e+02</td>\n",
       "      <td>9.973883e+02</td>\n",
       "      <td>9.993589e+03</td>\n",
       "      <td>2.263088e+06</td>\n",
       "      <td>7.171848e+02</td>\n",
       "      <td>6.033935e+01</td>\n",
       "      <td>1.860912e+02</td>\n",
       "      <td>2.811871e+02</td>\n",
       "      <td>...</td>\n",
       "      <td>6.364257e+02</td>\n",
       "      <td>1.084989e+06</td>\n",
       "      <td>6.485999e+05</td>\n",
       "      <td>3.933815e+05</td>\n",
       "      <td>1.025825e+06</td>\n",
       "      <td>5.770923e+05</td>\n",
       "      <td>2.363008e+07</td>\n",
       "      <td>4.602984e+06</td>\n",
       "      <td>2.436689e+07</td>\n",
       "      <td>2.336342e+07</td>\n",
       "    </tr>\n",
       "    <tr>\n",
       "      <th>min</th>\n",
       "      <td>0.000000e+00</td>\n",
       "      <td>-1.300000e+01</td>\n",
       "      <td>1.000000e+00</td>\n",
       "      <td>0.000000e+00</td>\n",
       "      <td>0.000000e+00</td>\n",
       "      <td>0.000000e+00</td>\n",
       "      <td>0.000000e+00</td>\n",
       "      <td>0.000000e+00</td>\n",
       "      <td>0.000000e+00</td>\n",
       "      <td>0.000000e+00</td>\n",
       "      <td>...</td>\n",
       "      <td>0.000000e+00</td>\n",
       "      <td>-5.368707e+08</td>\n",
       "      <td>0.000000e+00</td>\n",
       "      <td>0.000000e+00</td>\n",
       "      <td>0.000000e+00</td>\n",
       "      <td>0.000000e+00</td>\n",
       "      <td>0.000000e+00</td>\n",
       "      <td>0.000000e+00</td>\n",
       "      <td>0.000000e+00</td>\n",
       "      <td>0.000000e+00</td>\n",
       "    </tr>\n",
       "    <tr>\n",
       "      <th>25%</th>\n",
       "      <td>5.300000e+01</td>\n",
       "      <td>1.550000e+02</td>\n",
       "      <td>2.000000e+00</td>\n",
       "      <td>1.000000e+00</td>\n",
       "      <td>1.200000e+01</td>\n",
       "      <td>0.000000e+00</td>\n",
       "      <td>6.000000e+00</td>\n",
       "      <td>0.000000e+00</td>\n",
       "      <td>6.000000e+00</td>\n",
       "      <td>0.000000e+00</td>\n",
       "      <td>...</td>\n",
       "      <td>0.000000e+00</td>\n",
       "      <td>2.000000e+01</td>\n",
       "      <td>0.000000e+00</td>\n",
       "      <td>0.000000e+00</td>\n",
       "      <td>0.000000e+00</td>\n",
       "      <td>0.000000e+00</td>\n",
       "      <td>0.000000e+00</td>\n",
       "      <td>0.000000e+00</td>\n",
       "      <td>0.000000e+00</td>\n",
       "      <td>0.000000e+00</td>\n",
       "    </tr>\n",
       "    <tr>\n",
       "      <th>50%</th>\n",
       "      <td>8.000000e+01</td>\n",
       "      <td>3.131600e+04</td>\n",
       "      <td>2.000000e+00</td>\n",
       "      <td>2.000000e+00</td>\n",
       "      <td>6.200000e+01</td>\n",
       "      <td>1.230000e+02</td>\n",
       "      <td>3.700000e+01</td>\n",
       "      <td>2.000000e+00</td>\n",
       "      <td>3.400000e+01</td>\n",
       "      <td>0.000000e+00</td>\n",
       "      <td>...</td>\n",
       "      <td>1.000000e+00</td>\n",
       "      <td>2.400000e+01</td>\n",
       "      <td>0.000000e+00</td>\n",
       "      <td>0.000000e+00</td>\n",
       "      <td>0.000000e+00</td>\n",
       "      <td>0.000000e+00</td>\n",
       "      <td>0.000000e+00</td>\n",
       "      <td>0.000000e+00</td>\n",
       "      <td>0.000000e+00</td>\n",
       "      <td>0.000000e+00</td>\n",
       "    </tr>\n",
       "    <tr>\n",
       "      <th>75%</th>\n",
       "      <td>4.430000e+02</td>\n",
       "      <td>3.204828e+06</td>\n",
       "      <td>5.000000e+00</td>\n",
       "      <td>4.000000e+00</td>\n",
       "      <td>1.870000e+02</td>\n",
       "      <td>4.820000e+02</td>\n",
       "      <td>8.100000e+01</td>\n",
       "      <td>3.600000e+01</td>\n",
       "      <td>5.000000e+01</td>\n",
       "      <td>2.616295e+01</td>\n",
       "      <td>...</td>\n",
       "      <td>2.000000e+00</td>\n",
       "      <td>3.200000e+01</td>\n",
       "      <td>0.000000e+00</td>\n",
       "      <td>0.000000e+00</td>\n",
       "      <td>0.000000e+00</td>\n",
       "      <td>0.000000e+00</td>\n",
       "      <td>0.000000e+00</td>\n",
       "      <td>0.000000e+00</td>\n",
       "      <td>0.000000e+00</td>\n",
       "      <td>0.000000e+00</td>\n",
       "    </tr>\n",
       "    <tr>\n",
       "      <th>max</th>\n",
       "      <td>6.553500e+04</td>\n",
       "      <td>1.200000e+08</td>\n",
       "      <td>2.197590e+05</td>\n",
       "      <td>2.919220e+05</td>\n",
       "      <td>1.290000e+07</td>\n",
       "      <td>6.554530e+08</td>\n",
       "      <td>2.482000e+04</td>\n",
       "      <td>2.325000e+03</td>\n",
       "      <td>5.940857e+03</td>\n",
       "      <td>7.125597e+03</td>\n",
       "      <td>...</td>\n",
       "      <td>2.135570e+05</td>\n",
       "      <td>1.380000e+02</td>\n",
       "      <td>1.100000e+08</td>\n",
       "      <td>7.420000e+07</td>\n",
       "      <td>1.100000e+08</td>\n",
       "      <td>1.100000e+08</td>\n",
       "      <td>1.200000e+08</td>\n",
       "      <td>7.690000e+07</td>\n",
       "      <td>1.200000e+08</td>\n",
       "      <td>1.200000e+08</td>\n",
       "    </tr>\n",
       "  </tbody>\n",
       "</table>\n",
       "<p>8 rows × 78 columns</p>\n",
       "</div>"
      ],
      "text/plain": [
       "        Destination Port   Flow Duration   Total Fwd Packets  \\\n",
       "count       2.830743e+06    2.830743e+06        2.830743e+06   \n",
       "mean        8.071483e+03    1.478566e+07        9.361160e+00   \n",
       "std         1.828363e+04    3.365374e+07        7.496728e+02   \n",
       "min         0.000000e+00   -1.300000e+01        1.000000e+00   \n",
       "25%         5.300000e+01    1.550000e+02        2.000000e+00   \n",
       "50%         8.000000e+01    3.131600e+04        2.000000e+00   \n",
       "75%         4.430000e+02    3.204828e+06        5.000000e+00   \n",
       "max         6.553500e+04    1.200000e+08        2.197590e+05   \n",
       "\n",
       "        Total Backward Packets  Total Length of Fwd Packets  \\\n",
       "count             2.830743e+06                 2.830743e+06   \n",
       "mean              1.039377e+01                 5.493024e+02   \n",
       "std               9.973883e+02                 9.993589e+03   \n",
       "min               0.000000e+00                 0.000000e+00   \n",
       "25%               1.000000e+00                 1.200000e+01   \n",
       "50%               2.000000e+00                 6.200000e+01   \n",
       "75%               4.000000e+00                 1.870000e+02   \n",
       "max               2.919220e+05                 1.290000e+07   \n",
       "\n",
       "        Total Length of Bwd Packets   Fwd Packet Length Max  \\\n",
       "count                  2.830743e+06            2.830743e+06   \n",
       "mean                   1.616264e+04            2.075999e+02   \n",
       "std                    2.263088e+06            7.171848e+02   \n",
       "min                    0.000000e+00            0.000000e+00   \n",
       "25%                    0.000000e+00            6.000000e+00   \n",
       "50%                    1.230000e+02            3.700000e+01   \n",
       "75%                    4.820000e+02            8.100000e+01   \n",
       "max                    6.554530e+08            2.482000e+04   \n",
       "\n",
       "        Fwd Packet Length Min   Fwd Packet Length Mean  \\\n",
       "count            2.830743e+06             2.830743e+06   \n",
       "mean             1.871366e+01             5.820194e+01   \n",
       "std              6.033935e+01             1.860912e+02   \n",
       "min              0.000000e+00             0.000000e+00   \n",
       "25%              0.000000e+00             6.000000e+00   \n",
       "50%              2.000000e+00             3.400000e+01   \n",
       "75%              3.600000e+01             5.000000e+01   \n",
       "max              2.325000e+03             5.940857e+03   \n",
       "\n",
       "        Fwd Packet Length Std  ...   act_data_pkt_fwd   min_seg_size_forward  \\\n",
       "count            2.830743e+06  ...       2.830743e+06           2.830743e+06   \n",
       "mean             6.891013e+01  ...       5.418218e+00          -2.741688e+03   \n",
       "std              2.811871e+02  ...       6.364257e+02           1.084989e+06   \n",
       "min              0.000000e+00  ...       0.000000e+00          -5.368707e+08   \n",
       "25%              0.000000e+00  ...       0.000000e+00           2.000000e+01   \n",
       "50%              0.000000e+00  ...       1.000000e+00           2.400000e+01   \n",
       "75%              2.616295e+01  ...       2.000000e+00           3.200000e+01   \n",
       "max              7.125597e+03  ...       2.135570e+05           1.380000e+02   \n",
       "\n",
       "        Active Mean    Active Std    Active Max    Active Min     Idle Mean  \\\n",
       "count  2.830743e+06  2.830743e+06  2.830743e+06  2.830743e+06  2.830743e+06   \n",
       "mean   8.155132e+04  4.113412e+04  1.531825e+05  5.829582e+04  8.316037e+06   \n",
       "std    6.485999e+05  3.933815e+05  1.025825e+06  5.770923e+05  2.363008e+07   \n",
       "min    0.000000e+00  0.000000e+00  0.000000e+00  0.000000e+00  0.000000e+00   \n",
       "25%    0.000000e+00  0.000000e+00  0.000000e+00  0.000000e+00  0.000000e+00   \n",
       "50%    0.000000e+00  0.000000e+00  0.000000e+00  0.000000e+00  0.000000e+00   \n",
       "75%    0.000000e+00  0.000000e+00  0.000000e+00  0.000000e+00  0.000000e+00   \n",
       "max    1.100000e+08  7.420000e+07  1.100000e+08  1.100000e+08  1.200000e+08   \n",
       "\n",
       "           Idle Std      Idle Max      Idle Min  \n",
       "count  2.830743e+06  2.830743e+06  2.830743e+06  \n",
       "mean   5.038439e+05  8.695752e+06  7.920031e+06  \n",
       "std    4.602984e+06  2.436689e+07  2.336342e+07  \n",
       "min    0.000000e+00  0.000000e+00  0.000000e+00  \n",
       "25%    0.000000e+00  0.000000e+00  0.000000e+00  \n",
       "50%    0.000000e+00  0.000000e+00  0.000000e+00  \n",
       "75%    0.000000e+00  0.000000e+00  0.000000e+00  \n",
       "max    7.690000e+07  1.200000e+08  1.200000e+08  \n",
       "\n",
       "[8 rows x 78 columns]"
      ]
     },
     "execution_count": 10,
     "metadata": {},
     "output_type": "execute_result"
    }
   ],
   "source": [
    "df.describe()"
   ]
  },
  {
   "cell_type": "code",
   "execution_count": 11,
   "id": "3990b306",
   "metadata": {},
   "outputs": [],
   "source": [
    "df.rename(columns={' Label': 'Label'}, inplace = True)"
   ]
  },
  {
   "cell_type": "markdown",
   "id": "7e790415",
   "metadata": {},
   "source": [
    "## 2. Análise e Visualização de Dados\n",
    "\n",
    "- Após analisar as distribuições dos tipos de dados, você pode criar um histograma para analisar as ditribuições dos atributos numérico."
   ]
  },
  {
   "cell_type": "code",
   "execution_count": 12,
   "id": "be0506ea",
   "metadata": {},
   "outputs": [
    {
     "data": {
      "image/png": "[encoded data removed]",
      "text/plain": [
       "<Figure size 432x288 with 1 Axes>"
      ]
     },
     "metadata": {
      "needs_background": "light"
     },
     "output_type": "display_data"
    }
   ],
   "source": [
    "plt.hist(df['Label'], bins=15, rwidth=0.9) \n",
    "plt.xticks(rotation=90)\n",
    "plt.show()"
   ]
  },
  {
   "cell_type": "code",
   "execution_count": 13,
   "id": "95fd397f",
   "metadata": {},
   "outputs": [
    {
     "data": {
      "text/plain": [
       "BENIGN                        2273097\n",
       "DoS Hulk                       231073\n",
       "PortScan                       158930\n",
       "DDoS                           128027\n",
       "DoS GoldenEye                   10293\n",
       "FTP-Patator                      7938\n",
       "SSH-Patator                      5897\n",
       "DoS slowloris                    5796\n",
       "DoS Slowhttptest                 5499\n",
       "Bot                              1966\n",
       "Web Attack � Brute Force         1507\n",
       "Web Attack � XSS                  652\n",
       "Infiltration                       36\n",
       "Web Attack � Sql Injection         21\n",
       "Heartbleed                         11\n",
       "Name: Label, dtype: int64"
      ]
     },
     "execution_count": 13,
     "metadata": {},
     "output_type": "execute_result"
    }
   ],
   "source": [
    "df['Label'].value_counts()"
   ]
  },
  {
   "cell_type": "code",
   "execution_count": 14,
   "id": "7f43c670",
   "metadata": {},
   "outputs": [
    {
     "data": {
      "image/png": "[encoded data removed]",
      "text/plain": [
       "<Figure size 2160x720 with 1 Axes>"
      ]
     },
     "metadata": {
      "needs_background": "light"
     },
     "output_type": "display_data"
    }
   ],
   "source": [
    "ax = sns.countplot(x=\"Label\",data=df)\n",
    "ax.figure.set_size_inches(30, 10)"
   ]
  },
  {
   "cell_type": "markdown",
   "id": "5fd8ff26",
   "metadata": {},
   "source": [
    "Benign, Brute Force FTP, Brute Force SSH, DoS, Heartbleed, Web Attack, Infiltration, Botnet e DDoS"
   ]
  },
  {
   "cell_type": "code",
   "execution_count": 15,
   "id": "d16565b9",
   "metadata": {},
   "outputs": [
    {
     "name": "stderr",
     "output_type": "stream",
     "text": [
      "C:\\Users\\rafae\\AppData\\Local\\Temp\\ipykernel_51244\\3576367467.py:3: SettingWithCopyWarning: \n",
      "A value is trying to be set on a copy of a slice from a DataFrame\n",
      "\n",
      "See the caveats in the documentation: https://pandas.pydata.org/pandas-docs/stable/user_guide/indexing.html#returning-a-view-versus-a-copy\n",
      "C:\\Users\\rafae\\AppData\\Local\\Temp\\ipykernel_51244\\3576367467.py:4: SettingWithCopyWarning: \n",
      "A value is trying to be set on a copy of a slice from a DataFrame\n",
      "\n",
      "See the caveats in the documentation: https://pandas.pydata.org/pandas-docs/stable/user_guide/indexing.html#returning-a-view-versus-a-copy\n"
     ]
    }
   ],
   "source": [
    "#Transformando em binario\n",
    "\n",
    "df['Label'][df['Label']!='BENIGN']=1\n",
    "df['Label'][df['Label']=='BENIGN']=0"
   ]
  },
  {
   "cell_type": "code",
   "execution_count": 16,
   "id": "88faa566",
   "metadata": {},
   "outputs": [
    {
     "data": {
      "text/plain": [
       "0          0\n",
       "1          0\n",
       "2          0\n",
       "3          0\n",
       "4          0\n",
       "          ..\n",
       "2830738    0\n",
       "2830739    0\n",
       "2830740    0\n",
       "2830741    0\n",
       "2830742    0\n",
       "Name: Label, Length: 2830743, dtype: object"
      ]
     },
     "execution_count": 16,
     "metadata": {},
     "output_type": "execute_result"
    }
   ],
   "source": [
    "df['Label']"
   ]
  },
  {
   "cell_type": "code",
   "execution_count": 39,
   "id": "6313ad62",
   "metadata": {},
   "outputs": [
    {
     "data": {
      "image/png": "[encoded data removed]",
      "text/plain": [
       "<Figure size 432x288 with 1 Axes>"
      ]
     },
     "metadata": {
      "needs_background": "light"
     },
     "output_type": "display_data"
    }
   ],
   "source": [
    "plt.hist(df['Label'], bins=15, rwidth=0.9) \n",
    "plt.xticks(rotation=90)\n",
    "plt.show()"
   ]
  },
  {
   "cell_type": "code",
   "execution_count": 17,
   "id": "0c98f026",
   "metadata": {},
   "outputs": [
    {
     "data": {
      "text/plain": [
       "0    2273097\n",
       "1     557646\n",
       "Name: Label, dtype: int64"
      ]
     },
     "execution_count": 17,
     "metadata": {},
     "output_type": "execute_result"
    }
   ],
   "source": [
    "df['Label'].value_counts()"
   ]
  },
  {
   "cell_type": "code",
   "execution_count": 18,
   "id": "0634f5ea",
   "metadata": {},
   "outputs": [],
   "source": [
    "df_new = df.copy()"
   ]
  },
  {
   "cell_type": "code",
   "execution_count": 19,
   "id": "e7c4338a",
   "metadata": {},
   "outputs": [],
   "source": [
    "df_new = df_new.astype(float)"
   ]
  },
  {
   "cell_type": "code",
   "execution_count": 20,
   "id": "484861e2",
   "metadata": {},
   "outputs": [
    {
     "data": {
      "text/html": [
       "<div>\n",
       "<style scoped>\n",
       "    .dataframe tbody tr th:only-of-type {\n",
       "        vertical-align: middle;\n",
       "    }\n",
       "\n",
       "    .dataframe tbody tr th {\n",
       "        vertical-align: top;\n",
       "    }\n",
       "\n",
       "    .dataframe thead th {\n",
       "        text-align: right;\n",
       "    }\n",
       "</style>\n",
       "<table border=\"1\" class=\"dataframe\">\n",
       "  <thead>\n",
       "    <tr style=\"text-align: right;\">\n",
       "      <th></th>\n",
       "      <th>Destination Port</th>\n",
       "      <th>Flow Duration</th>\n",
       "      <th>Total Fwd Packets</th>\n",
       "      <th>Total Backward Packets</th>\n",
       "      <th>Total Length of Fwd Packets</th>\n",
       "      <th>Total Length of Bwd Packets</th>\n",
       "      <th>Fwd Packet Length Max</th>\n",
       "      <th>Fwd Packet Length Min</th>\n",
       "      <th>Fwd Packet Length Mean</th>\n",
       "      <th>Fwd Packet Length Std</th>\n",
       "      <th>...</th>\n",
       "      <th>min_seg_size_forward</th>\n",
       "      <th>Active Mean</th>\n",
       "      <th>Active Std</th>\n",
       "      <th>Active Max</th>\n",
       "      <th>Active Min</th>\n",
       "      <th>Idle Mean</th>\n",
       "      <th>Idle Std</th>\n",
       "      <th>Idle Max</th>\n",
       "      <th>Idle Min</th>\n",
       "      <th>Label</th>\n",
       "    </tr>\n",
       "  </thead>\n",
       "  <tbody>\n",
       "    <tr>\n",
       "      <th>0</th>\n",
       "      <td>49188.0</td>\n",
       "      <td>4.0</td>\n",
       "      <td>2.0</td>\n",
       "      <td>0.0</td>\n",
       "      <td>12.0</td>\n",
       "      <td>0.0</td>\n",
       "      <td>6.0</td>\n",
       "      <td>6.0</td>\n",
       "      <td>6.0</td>\n",
       "      <td>0.0</td>\n",
       "      <td>...</td>\n",
       "      <td>20.0</td>\n",
       "      <td>0.0</td>\n",
       "      <td>0.0</td>\n",
       "      <td>0.0</td>\n",
       "      <td>0.0</td>\n",
       "      <td>0.0</td>\n",
       "      <td>0.0</td>\n",
       "      <td>0.0</td>\n",
       "      <td>0.0</td>\n",
       "      <td>0.0</td>\n",
       "    </tr>\n",
       "    <tr>\n",
       "      <th>1</th>\n",
       "      <td>49188.0</td>\n",
       "      <td>1.0</td>\n",
       "      <td>2.0</td>\n",
       "      <td>0.0</td>\n",
       "      <td>12.0</td>\n",
       "      <td>0.0</td>\n",
       "      <td>6.0</td>\n",
       "      <td>6.0</td>\n",
       "      <td>6.0</td>\n",
       "      <td>0.0</td>\n",
       "      <td>...</td>\n",
       "      <td>20.0</td>\n",
       "      <td>0.0</td>\n",
       "      <td>0.0</td>\n",
       "      <td>0.0</td>\n",
       "      <td>0.0</td>\n",
       "      <td>0.0</td>\n",
       "      <td>0.0</td>\n",
       "      <td>0.0</td>\n",
       "      <td>0.0</td>\n",
       "      <td>0.0</td>\n",
       "    </tr>\n",
       "    <tr>\n",
       "      <th>2</th>\n",
       "      <td>49188.0</td>\n",
       "      <td>1.0</td>\n",
       "      <td>2.0</td>\n",
       "      <td>0.0</td>\n",
       "      <td>12.0</td>\n",
       "      <td>0.0</td>\n",
       "      <td>6.0</td>\n",
       "      <td>6.0</td>\n",
       "      <td>6.0</td>\n",
       "      <td>0.0</td>\n",
       "      <td>...</td>\n",
       "      <td>20.0</td>\n",
       "      <td>0.0</td>\n",
       "      <td>0.0</td>\n",
       "      <td>0.0</td>\n",
       "      <td>0.0</td>\n",
       "      <td>0.0</td>\n",
       "      <td>0.0</td>\n",
       "      <td>0.0</td>\n",
       "      <td>0.0</td>\n",
       "      <td>0.0</td>\n",
       "    </tr>\n",
       "    <tr>\n",
       "      <th>3</th>\n",
       "      <td>49188.0</td>\n",
       "      <td>1.0</td>\n",
       "      <td>2.0</td>\n",
       "      <td>0.0</td>\n",
       "      <td>12.0</td>\n",
       "      <td>0.0</td>\n",
       "      <td>6.0</td>\n",
       "      <td>6.0</td>\n",
       "      <td>6.0</td>\n",
       "      <td>0.0</td>\n",
       "      <td>...</td>\n",
       "      <td>20.0</td>\n",
       "      <td>0.0</td>\n",
       "      <td>0.0</td>\n",
       "      <td>0.0</td>\n",
       "      <td>0.0</td>\n",
       "      <td>0.0</td>\n",
       "      <td>0.0</td>\n",
       "      <td>0.0</td>\n",
       "      <td>0.0</td>\n",
       "      <td>0.0</td>\n",
       "    </tr>\n",
       "    <tr>\n",
       "      <th>4</th>\n",
       "      <td>49486.0</td>\n",
       "      <td>3.0</td>\n",
       "      <td>2.0</td>\n",
       "      <td>0.0</td>\n",
       "      <td>12.0</td>\n",
       "      <td>0.0</td>\n",
       "      <td>6.0</td>\n",
       "      <td>6.0</td>\n",
       "      <td>6.0</td>\n",
       "      <td>0.0</td>\n",
       "      <td>...</td>\n",
       "      <td>20.0</td>\n",
       "      <td>0.0</td>\n",
       "      <td>0.0</td>\n",
       "      <td>0.0</td>\n",
       "      <td>0.0</td>\n",
       "      <td>0.0</td>\n",
       "      <td>0.0</td>\n",
       "      <td>0.0</td>\n",
       "      <td>0.0</td>\n",
       "      <td>0.0</td>\n",
       "    </tr>\n",
       "    <tr>\n",
       "      <th>...</th>\n",
       "      <td>...</td>\n",
       "      <td>...</td>\n",
       "      <td>...</td>\n",
       "      <td>...</td>\n",
       "      <td>...</td>\n",
       "      <td>...</td>\n",
       "      <td>...</td>\n",
       "      <td>...</td>\n",
       "      <td>...</td>\n",
       "      <td>...</td>\n",
       "      <td>...</td>\n",
       "      <td>...</td>\n",
       "      <td>...</td>\n",
       "      <td>...</td>\n",
       "      <td>...</td>\n",
       "      <td>...</td>\n",
       "      <td>...</td>\n",
       "      <td>...</td>\n",
       "      <td>...</td>\n",
       "      <td>...</td>\n",
       "      <td>...</td>\n",
       "    </tr>\n",
       "    <tr>\n",
       "      <th>2830738</th>\n",
       "      <td>53.0</td>\n",
       "      <td>61452.0</td>\n",
       "      <td>4.0</td>\n",
       "      <td>2.0</td>\n",
       "      <td>180.0</td>\n",
       "      <td>354.0</td>\n",
       "      <td>45.0</td>\n",
       "      <td>45.0</td>\n",
       "      <td>45.0</td>\n",
       "      <td>0.0</td>\n",
       "      <td>...</td>\n",
       "      <td>20.0</td>\n",
       "      <td>0.0</td>\n",
       "      <td>0.0</td>\n",
       "      <td>0.0</td>\n",
       "      <td>0.0</td>\n",
       "      <td>0.0</td>\n",
       "      <td>0.0</td>\n",
       "      <td>0.0</td>\n",
       "      <td>0.0</td>\n",
       "      <td>0.0</td>\n",
       "    </tr>\n",
       "    <tr>\n",
       "      <th>2830739</th>\n",
       "      <td>53.0</td>\n",
       "      <td>171.0</td>\n",
       "      <td>2.0</td>\n",
       "      <td>2.0</td>\n",
       "      <td>80.0</td>\n",
       "      <td>272.0</td>\n",
       "      <td>40.0</td>\n",
       "      <td>40.0</td>\n",
       "      <td>40.0</td>\n",
       "      <td>0.0</td>\n",
       "      <td>...</td>\n",
       "      <td>32.0</td>\n",
       "      <td>0.0</td>\n",
       "      <td>0.0</td>\n",
       "      <td>0.0</td>\n",
       "      <td>0.0</td>\n",
       "      <td>0.0</td>\n",
       "      <td>0.0</td>\n",
       "      <td>0.0</td>\n",
       "      <td>0.0</td>\n",
       "      <td>0.0</td>\n",
       "    </tr>\n",
       "    <tr>\n",
       "      <th>2830740</th>\n",
       "      <td>53.0</td>\n",
       "      <td>222.0</td>\n",
       "      <td>2.0</td>\n",
       "      <td>2.0</td>\n",
       "      <td>90.0</td>\n",
       "      <td>354.0</td>\n",
       "      <td>45.0</td>\n",
       "      <td>45.0</td>\n",
       "      <td>45.0</td>\n",
       "      <td>0.0</td>\n",
       "      <td>...</td>\n",
       "      <td>32.0</td>\n",
       "      <td>0.0</td>\n",
       "      <td>0.0</td>\n",
       "      <td>0.0</td>\n",
       "      <td>0.0</td>\n",
       "      <td>0.0</td>\n",
       "      <td>0.0</td>\n",
       "      <td>0.0</td>\n",
       "      <td>0.0</td>\n",
       "      <td>0.0</td>\n",
       "    </tr>\n",
       "    <tr>\n",
       "      <th>2830741</th>\n",
       "      <td>123.0</td>\n",
       "      <td>16842.0</td>\n",
       "      <td>1.0</td>\n",
       "      <td>1.0</td>\n",
       "      <td>48.0</td>\n",
       "      <td>48.0</td>\n",
       "      <td>48.0</td>\n",
       "      <td>48.0</td>\n",
       "      <td>48.0</td>\n",
       "      <td>0.0</td>\n",
       "      <td>...</td>\n",
       "      <td>20.0</td>\n",
       "      <td>0.0</td>\n",
       "      <td>0.0</td>\n",
       "      <td>0.0</td>\n",
       "      <td>0.0</td>\n",
       "      <td>0.0</td>\n",
       "      <td>0.0</td>\n",
       "      <td>0.0</td>\n",
       "      <td>0.0</td>\n",
       "      <td>0.0</td>\n",
       "    </tr>\n",
       "    <tr>\n",
       "      <th>2830742</th>\n",
       "      <td>53.0</td>\n",
       "      <td>153.0</td>\n",
       "      <td>2.0</td>\n",
       "      <td>2.0</td>\n",
       "      <td>68.0</td>\n",
       "      <td>100.0</td>\n",
       "      <td>34.0</td>\n",
       "      <td>34.0</td>\n",
       "      <td>34.0</td>\n",
       "      <td>0.0</td>\n",
       "      <td>...</td>\n",
       "      <td>20.0</td>\n",
       "      <td>0.0</td>\n",
       "      <td>0.0</td>\n",
       "      <td>0.0</td>\n",
       "      <td>0.0</td>\n",
       "      <td>0.0</td>\n",
       "      <td>0.0</td>\n",
       "      <td>0.0</td>\n",
       "      <td>0.0</td>\n",
       "      <td>0.0</td>\n",
       "    </tr>\n",
       "  </tbody>\n",
       "</table>\n",
       "<p>2830743 rows × 79 columns</p>\n",
       "</div>"
      ],
      "text/plain": [
       "          Destination Port   Flow Duration   Total Fwd Packets  \\\n",
       "0                  49188.0             4.0                 2.0   \n",
       "1                  49188.0             1.0                 2.0   \n",
       "2                  49188.0             1.0                 2.0   \n",
       "3                  49188.0             1.0                 2.0   \n",
       "4                  49486.0             3.0                 2.0   \n",
       "...                    ...             ...                 ...   \n",
       "2830738               53.0         61452.0                 4.0   \n",
       "2830739               53.0           171.0                 2.0   \n",
       "2830740               53.0           222.0                 2.0   \n",
       "2830741              123.0         16842.0                 1.0   \n",
       "2830742               53.0           153.0                 2.0   \n",
       "\n",
       "          Total Backward Packets  Total Length of Fwd Packets  \\\n",
       "0                            0.0                         12.0   \n",
       "1                            0.0                         12.0   \n",
       "2                            0.0                         12.0   \n",
       "3                            0.0                         12.0   \n",
       "4                            0.0                         12.0   \n",
       "...                          ...                          ...   \n",
       "2830738                      2.0                        180.0   \n",
       "2830739                      2.0                         80.0   \n",
       "2830740                      2.0                         90.0   \n",
       "2830741                      1.0                         48.0   \n",
       "2830742                      2.0                         68.0   \n",
       "\n",
       "          Total Length of Bwd Packets   Fwd Packet Length Max  \\\n",
       "0                                 0.0                     6.0   \n",
       "1                                 0.0                     6.0   \n",
       "2                                 0.0                     6.0   \n",
       "3                                 0.0                     6.0   \n",
       "4                                 0.0                     6.0   \n",
       "...                               ...                     ...   \n",
       "2830738                         354.0                    45.0   \n",
       "2830739                         272.0                    40.0   \n",
       "2830740                         354.0                    45.0   \n",
       "2830741                          48.0                    48.0   \n",
       "2830742                         100.0                    34.0   \n",
       "\n",
       "          Fwd Packet Length Min   Fwd Packet Length Mean  \\\n",
       "0                           6.0                      6.0   \n",
       "1                           6.0                      6.0   \n",
       "2                           6.0                      6.0   \n",
       "3                           6.0                      6.0   \n",
       "4                           6.0                      6.0   \n",
       "...                         ...                      ...   \n",
       "2830738                    45.0                     45.0   \n",
       "2830739                    40.0                     40.0   \n",
       "2830740                    45.0                     45.0   \n",
       "2830741                    48.0                     48.0   \n",
       "2830742                    34.0                     34.0   \n",
       "\n",
       "          Fwd Packet Length Std  ...   min_seg_size_forward  Active Mean  \\\n",
       "0                           0.0  ...                   20.0          0.0   \n",
       "1                           0.0  ...                   20.0          0.0   \n",
       "2                           0.0  ...                   20.0          0.0   \n",
       "3                           0.0  ...                   20.0          0.0   \n",
       "4                           0.0  ...                   20.0          0.0   \n",
       "...                         ...  ...                    ...          ...   \n",
       "2830738                     0.0  ...                   20.0          0.0   \n",
       "2830739                     0.0  ...                   32.0          0.0   \n",
       "2830740                     0.0  ...                   32.0          0.0   \n",
       "2830741                     0.0  ...                   20.0          0.0   \n",
       "2830742                     0.0  ...                   20.0          0.0   \n",
       "\n",
       "          Active Std   Active Max   Active Min  Idle Mean   Idle Std  \\\n",
       "0                0.0          0.0          0.0        0.0        0.0   \n",
       "1                0.0          0.0          0.0        0.0        0.0   \n",
       "2                0.0          0.0          0.0        0.0        0.0   \n",
       "3                0.0          0.0          0.0        0.0        0.0   \n",
       "4                0.0          0.0          0.0        0.0        0.0   \n",
       "...              ...          ...          ...        ...        ...   \n",
       "2830738          0.0          0.0          0.0        0.0        0.0   \n",
       "2830739          0.0          0.0          0.0        0.0        0.0   \n",
       "2830740          0.0          0.0          0.0        0.0        0.0   \n",
       "2830741          0.0          0.0          0.0        0.0        0.0   \n",
       "2830742          0.0          0.0          0.0        0.0        0.0   \n",
       "\n",
       "          Idle Max   Idle Min  Label  \n",
       "0              0.0        0.0    0.0  \n",
       "1              0.0        0.0    0.0  \n",
       "2              0.0        0.0    0.0  \n",
       "3              0.0        0.0    0.0  \n",
       "4              0.0        0.0    0.0  \n",
       "...            ...        ...    ...  \n",
       "2830738        0.0        0.0    0.0  \n",
       "2830739        0.0        0.0    0.0  \n",
       "2830740        0.0        0.0    0.0  \n",
       "2830741        0.0        0.0    0.0  \n",
       "2830742        0.0        0.0    0.0  \n",
       "\n",
       "[2830743 rows x 79 columns]"
      ]
     },
     "execution_count": 20,
     "metadata": {},
     "output_type": "execute_result"
    }
   ],
   "source": [
    "df_new"
   ]
  },
  {
   "cell_type": "code",
   "execution_count": 21,
   "id": "2b24e8dc",
   "metadata": {},
   "outputs": [
    {
     "data": {
      "text/plain": [
       "Label                      1.000000\n",
       " Bwd Packet Length Std     0.510216\n",
       "Bwd Packet Length Max      0.492007\n",
       " Bwd Packet Length Mean    0.484189\n",
       " Avg Bwd Segment Size      0.484189\n",
       "                             ...   \n",
       " Fwd Avg Packets/Bulk           NaN\n",
       " Fwd Avg Bulk Rate              NaN\n",
       " Bwd Avg Bytes/Bulk             NaN\n",
       " Bwd Avg Packets/Bulk           NaN\n",
       "Bwd Avg Bulk Rate               NaN\n",
       "Length: 79, dtype: float64"
      ]
     },
     "execution_count": 21,
     "metadata": {},
     "output_type": "execute_result"
    }
   ],
   "source": [
    "#Verificando Correlação entre as colunas numericas com o Preco\n",
    "\n",
    "corr = df_new.corrwith(df_new['Label'])\n",
    "corr.sort_values(ascending=False)"
   ]
  },
  {
   "cell_type": "code",
   "execution_count": 22,
   "id": "d1a27224",
   "metadata": {},
   "outputs": [
    {
     "data": {
      "text/plain": [
       "Label                      1.000000\n",
       " Bwd Packet Length Std     0.510216\n",
       "Bwd Packet Length Max      0.492007\n",
       " Bwd Packet Length Mean    0.484189\n",
       " Avg Bwd Segment Size      0.484189\n",
       " Packet Length Std         0.470252\n",
       " Max Packet Length         0.454054\n",
       " Packet Length Variance    0.453847\n",
       " Fwd IAT Std               0.422755\n",
       " Packet Length Mean        0.414059\n",
       " Average Packet Size       0.413037\n",
       " Idle Max                  0.394220\n",
       "Idle Mean                  0.390470\n",
       " Flow IAT Max              0.388666\n",
       " Fwd IAT Max               0.388642\n",
       " Idle Min                  0.380651\n",
       " Flow IAT Std              0.336720\n",
       "Fwd IAT Total              0.215468\n",
       " Flow Duration             0.213864\n",
       "dtype: float64"
      ]
     },
     "execution_count": 22,
     "metadata": {},
     "output_type": "execute_result"
    }
   ],
   "source": [
    "correlated_columns = corr[corr > 0.2]\n",
    "correlated_columns.sort_values(ascending=False)"
   ]
  },
  {
   "cell_type": "markdown",
   "id": "8fa95bff",
   "metadata": {},
   "source": [
    "## Divisão em treino e teste "
   ]
  },
  {
   "cell_type": "code",
   "execution_count": 23,
   "id": "ccff4d6b",
   "metadata": {},
   "outputs": [],
   "source": [
    "data = df_new.values\n",
    "#.sample(frac=0.5)"
   ]
  },
  {
   "cell_type": "code",
   "execution_count": 24,
   "id": "2c38ed27",
   "metadata": {},
   "outputs": [
    {
     "data": {
      "text/plain": [
       "array([[4.9188e+04, 4.0000e+00, 2.0000e+00, ..., 0.0000e+00, 0.0000e+00,\n",
       "        0.0000e+00],\n",
       "       [4.9188e+04, 1.0000e+00, 2.0000e+00, ..., 0.0000e+00, 0.0000e+00,\n",
       "        0.0000e+00],\n",
       "       [4.9188e+04, 1.0000e+00, 2.0000e+00, ..., 0.0000e+00, 0.0000e+00,\n",
       "        0.0000e+00],\n",
       "       ...,\n",
       "       [5.3000e+01, 2.2200e+02, 2.0000e+00, ..., 0.0000e+00, 0.0000e+00,\n",
       "        0.0000e+00],\n",
       "       [1.2300e+02, 1.6842e+04, 1.0000e+00, ..., 0.0000e+00, 0.0000e+00,\n",
       "        0.0000e+00],\n",
       "       [5.3000e+01, 1.5300e+02, 2.0000e+00, ..., 0.0000e+00, 0.0000e+00,\n",
       "        0.0000e+00]])"
      ]
     },
     "execution_count": 24,
     "metadata": {},
     "output_type": "execute_result"
    }
   ],
   "source": [
    "data"
   ]
  },
  {
   "cell_type": "code",
   "execution_count": 25,
   "id": "60ca52a6",
   "metadata": {},
   "outputs": [
    {
     "data": {
      "text/plain": [
       "(2830743, 79)"
      ]
     },
     "execution_count": 25,
     "metadata": {},
     "output_type": "execute_result"
    }
   ],
   "source": [
    "data.shape"
   ]
  },
  {
   "cell_type": "code",
   "execution_count": 26,
   "id": "0f8ccd7d",
   "metadata": {},
   "outputs": [],
   "source": [
    "data = np.delete(data, np.isinf(data).any(axis=1), axis=0)"
   ]
  },
  {
   "cell_type": "code",
   "execution_count": 27,
   "id": "fcce0e4f",
   "metadata": {},
   "outputs": [
    {
     "data": {
      "text/plain": [
       "(2827876, 79)"
      ]
     },
     "execution_count": 27,
     "metadata": {},
     "output_type": "execute_result"
    }
   ],
   "source": [
    "data.shape"
   ]
  },
  {
   "cell_type": "code",
   "execution_count": 28,
   "id": "bd01fd23",
   "metadata": {},
   "outputs": [],
   "source": [
    "X = data[:,0:78]\n",
    "Y = data[:,78]"
   ]
  },
  {
   "cell_type": "code",
   "execution_count": 29,
   "id": "231c08d1",
   "metadata": {},
   "outputs": [],
   "source": [
    "Xtrain, Xtest, Ytrain, Ytest = train_test_split(X,Y, train_size=0.7)"
   ]
  },
  {
   "cell_type": "code",
   "execution_count": 30,
   "id": "68cccc18",
   "metadata": {},
   "outputs": [
    {
     "data": {
      "text/plain": [
       "(1979513, 78)"
      ]
     },
     "execution_count": 30,
     "metadata": {},
     "output_type": "execute_result"
    }
   ],
   "source": [
    "tamanho=Xtrain.shape\n",
    "tamanho"
   ]
  },
  {
   "cell_type": "code",
   "execution_count": 31,
   "id": "fdfe8e9a",
   "metadata": {},
   "outputs": [
    {
     "data": {
      "text/plain": [
       "(1979513,)"
      ]
     },
     "execution_count": 31,
     "metadata": {},
     "output_type": "execute_result"
    }
   ],
   "source": [
    "Ytrain.shape"
   ]
  },
  {
   "cell_type": "code",
   "execution_count": 32,
   "id": "51163da9",
   "metadata": {},
   "outputs": [
    {
     "data": {
      "text/plain": [
       "(2827876, 79)"
      ]
     },
     "execution_count": 32,
     "metadata": {},
     "output_type": "execute_result"
    }
   ],
   "source": [
    "data.shape"
   ]
  },
  {
   "cell_type": "code",
   "execution_count": 33,
   "id": "7cd41ff1",
   "metadata": {},
   "outputs": [],
   "source": [
    "#Normalização dos dados\n",
    "\n",
    "from sklearn.preprocessing import StandardScaler\n",
    "scaler = StandardScaler()"
   ]
  },
  {
   "cell_type": "code",
   "execution_count": 34,
   "id": "5a162c84",
   "metadata": {},
   "outputs": [],
   "source": [
    "X_train_normal = scaler.fit_transform(Xtrain)\n",
    "X_test_normal = scaler.transform(Xtest)"
   ]
  },
  {
   "cell_type": "code",
   "execution_count": 35,
   "id": "79dce8ca",
   "metadata": {},
   "outputs": [
    {
     "data": {
      "text/plain": [
       "(0.9994832062229447, 0.9990581861773793)"
      ]
     },
     "execution_count": 35,
     "metadata": {},
     "output_type": "execute_result"
    }
   ],
   "source": [
    "# RandomForestClassifier\n",
    "\n",
    "forest_reg = RandomForestClassifier()\n",
    "\n",
    "# Treinando o modelo\n",
    "forest_reg.fit(X_train_normal, Ytrain)\n",
    "   \n",
    "# Realizando predição com treino e teste\n",
    "forest_reg.score(X_train_normal, Ytrain), forest_reg.score(X_test_normal, Ytest)"
   ]
  },
  {
   "cell_type": "code",
   "execution_count": 44,
   "id": "7870ca54",
   "metadata": {},
   "outputs": [
    {
     "data": {
      "text/plain": [
       "array([[1., 0.],\n",
       "       [1., 0.],\n",
       "       [1., 0.],\n",
       "       ...,\n",
       "       [1., 0.],\n",
       "       [1., 0.],\n",
       "       [1., 0.]])"
      ]
     },
     "execution_count": 44,
     "metadata": {},
     "output_type": "execute_result"
    }
   ],
   "source": [
    "y_pred_proba = forest_reg.predict_proba(X_test_normal)\n",
    "y_pred_proba"
   ]
  },
  {
   "cell_type": "code",
   "execution_count": 45,
   "id": "5c5b00c9",
   "metadata": {},
   "outputs": [
    {
     "data": {
      "image/png": "[encoded data removed]",
      "text/plain": [
       "<Figure size 432x288 with 1 Axes>"
      ]
     },
     "metadata": {
      "needs_background": "light"
     },
     "output_type": "display_data"
    }
   ],
   "source": [
    "#Curva ROC RF\n",
    "\n",
    "y_pred_proba = forest_reg.predict_proba(X_test_normal)[::,1]\n",
    "fpr, tpr, _ = metrics.roc_curve(Ytest,  y_pred_proba)\n",
    "auc = metrics.roc_auc_score(Ytest, y_pred_proba)\n",
    "plt.plot(fpr,tpr,label=\"data 1, auc=\"+str(auc))\n",
    "plt.plot([0, 1], [0, 1], color='green', linestyle='--')\n",
    "plt.legend(loc=4)\n",
    "plt.show()"
   ]
  },
  {
   "cell_type": "code",
   "execution_count": 40,
   "id": "d282cf48",
   "metadata": {},
   "outputs": [
    {
     "data": {
      "text/plain": [
       "(0.931439197418759, 0.9319560141118837)"
      ]
     },
     "execution_count": 40,
     "metadata": {},
     "output_type": "execute_result"
    }
   ],
   "source": [
    "#DecisionTree\n",
    "\n",
    "DT =DecisionTreeClassifier(max_features=5, max_depth=4)\n",
    "\n",
    "# treinando o modelo\n",
    "DT.fit(X_train_normal, Ytrain)\n",
    "\n",
    "# Realizando predição com treino e teste\n",
    "\n",
    "DT.score(X_train_normal, Ytrain), DT.score(X_test_normal, Ytest)"
   ]
  },
  {
   "cell_type": "code",
   "execution_count": 46,
   "id": "877c141f",
   "metadata": {},
   "outputs": [
    {
     "data": {
      "image/png": "[encoded data removed]",
      "text/plain": [
       "<Figure size 432x288 with 1 Axes>"
      ]
     },
     "metadata": {
      "needs_background": "light"
     },
     "output_type": "display_data"
    }
   ],
   "source": [
    "#Curva ROC DT\n",
    "\n",
    "y_pred_probadt = DT.predict_proba(X_test_normal)[::,1]\n",
    "fpr, tpr, _ = metrics.roc_curve(Ytest,  y_pred_probadt)\n",
    "auc = metrics.roc_auc_score(Ytest, y_pred_probadt)\n",
    "plt.plot(fpr,tpr,label=\"data 1, auc=\"+str(auc))\n",
    "plt.plot([0, 1], [0, 1], color='green', linestyle='--')\n",
    "plt.legend(loc=4)\n",
    "plt.show()"
   ]
  },
  {
   "cell_type": "code",
   "execution_count": 38,
   "id": "233f108a",
   "metadata": {},
   "outputs": [
    {
     "data": {
      "text/plain": [
       "[Text(0.5, 0.9, 'X[55] <= 0.001\\ngini = 0.317\\nsamples = 1979513\\nvalue = [1589247, 390266]'),\n",
       " Text(0.25, 0.7, 'X[6] <= -0.282\\ngini = 0.232\\nsamples = 1239237\\nvalue = [1072972, 166265]'),\n",
       " Text(0.125, 0.5, 'X[40] <= -0.557\\ngini = 0.484\\nsamples = 374937\\nvalue = [220914, 154023]'),\n",
       " Text(0.0625, 0.3, 'X[37] <= -0.183\\ngini = 0.324\\nsamples = 214643\\nvalue = [171048, 43595]'),\n",
       " Text(0.03125, 0.1, 'gini = 0.489\\nsamples = 95469\\nvalue = [54663, 40806]'),\n",
       " Text(0.09375, 0.1, 'gini = 0.046\\nsamples = 119174\\nvalue = [116385, 2789]'),\n",
       " Text(0.1875, 0.3, 'X[37] <= -0.066\\ngini = 0.429\\nsamples = 160294\\nvalue = [49866, 110428]'),\n",
       " Text(0.15625, 0.1, 'gini = 0.024\\nsamples = 25324\\nvalue = [25015, 309]'),\n",
       " Text(0.21875, 0.1, 'gini = 0.3\\nsamples = 134970\\nvalue = [24851, 110119]'),\n",
       " Text(0.375, 0.5, 'X[21] <= -0.274\\ngini = 0.028\\nsamples = 864300\\nvalue = [852058, 12242]'),\n",
       " Text(0.3125, 0.3, 'X[38] <= -0.608\\ngini = 0.01\\nsamples = 781756\\nvalue = [777659, 4097]'),\n",
       " Text(0.28125, 0.1, 'gini = 0.148\\nsamples = 42838\\nvalue = [39396, 3442]'),\n",
       " Text(0.34375, 0.1, 'gini = 0.002\\nsamples = 738918\\nvalue = [738263, 655]'),\n",
       " Text(0.4375, 0.3, 'X[5] <= -0.004\\ngini = 0.178\\nsamples = 82544\\nvalue = [74399, 8145]'),\n",
       " Text(0.40625, 0.1, 'gini = 0.161\\nsamples = 81586\\nvalue = [74399, 7187]'),\n",
       " Text(0.46875, 0.1, 'gini = 0.0\\nsamples = 958\\nvalue = [0, 958]'),\n",
       " Text(0.75, 0.7, 'X[40] <= 1.723\\ngini = 0.422\\nsamples = 740276\\nvalue = [516275, 224001]'),\n",
       " Text(0.625, 0.5, 'X[35] <= 0.002\\ngini = 0.193\\nsamples = 529737\\nvalue = [472533, 57204]'),\n",
       " Text(0.5625, 0.3, 'X[70] <= -0.128\\ngini = 0.453\\nsamples = 65882\\nvalue = [22852, 43030]'),\n",
       " Text(0.53125, 0.1, 'gini = 0.5\\nsamples = 42522\\nvalue = [20844, 21678]'),\n",
       " Text(0.59375, 0.1, 'gini = 0.157\\nsamples = 23360\\nvalue = [2008, 21352]'),\n",
       " Text(0.6875, 0.3, 'X[54] <= 1.886\\ngini = 0.059\\nsamples = 463855\\nvalue = [449681, 14174]'),\n",
       " Text(0.65625, 0.1, 'gini = 0.053\\nsamples = 461961\\nvalue = [449493, 12468]'),\n",
       " Text(0.71875, 0.1, 'gini = 0.179\\nsamples = 1894\\nvalue = [188, 1706]'),\n",
       " Text(0.875, 0.5, 'X[8] <= 1.127\\ngini = 0.329\\nsamples = 210539\\nvalue = [43742, 166797]'),\n",
       " Text(0.8125, 0.3, 'X[13] <= 1.146\\ngini = 0.255\\nsamples = 196125\\nvalue = [29392, 166733]'),\n",
       " Text(0.78125, 0.1, 'gini = 0.004\\nsamples = 28826\\nvalue = [28771, 55]'),\n",
       " Text(0.84375, 0.1, 'gini = 0.007\\nsamples = 167299\\nvalue = [621, 166678]'),\n",
       " Text(0.9375, 0.3, 'X[63] <= 0.124\\ngini = 0.009\\nsamples = 14414\\nvalue = [14350, 64]'),\n",
       " Text(0.90625, 0.1, 'gini = 0.469\\nsamples = 24\\nvalue = [9, 15]'),\n",
       " Text(0.96875, 0.1, 'gini = 0.007\\nsamples = 14390\\nvalue = [14341, 49]')]"
      ]
     },
     "execution_count": 38,
     "metadata": {},
     "output_type": "execute_result"
    },
    {
     "data": {
      "image/png": "[encoded data removed]",
      "text/plain": [
       "<Figure size 1080x864 with 1 Axes>"
      ]
     },
     "metadata": {
      "needs_background": "light"
     },
     "output_type": "display_data"
    }
   ],
   "source": [
    "fig = plt.figure(figsize=(15,12))\n",
    "tree.plot_tree(DT, filled=True)"
   ]
  },
  {
   "cell_type": "code",
   "execution_count": null,
   "id": "599056b5",
   "metadata": {},
   "outputs": [],
   "source": []
  },
  {
   "cell_type": "code",
   "execution_count": null,
   "id": "1f963df1",
   "metadata": {},
   "outputs": [],
   "source": []
  }
 ],
 "metadata": {
  "kernelspec": {
   "display_name": "Python 3 (ipykernel)",
   "language": "python",
   "name": "python3"
  },
  "language_info": {
   "codemirror_mode": {
    "name": "ipython",
    "version": 3
   },
   "file_extension": ".py",
   "mimetype": "text/x-python",
   "name": "python",
   "nbconvert_exporter": "python",
   "pygments_lexer": "ipython3",
   "version": "3.9.12"
  }
 },
 "nbformat": 4,
 "nbformat_minor": 5
}
